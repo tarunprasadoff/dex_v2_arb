{
 "cells": [
  {
   "cell_type": "code",
   "execution_count": 1,
   "metadata": {},
   "outputs": [
    {
     "data": {
      "text/plain": [
       "([6509056595038131770621952,\n",
       "  3308345021333293932478464,\n",
       "  34203974727465735028736,\n",
       "  1549689087232146931712,\n",
       "  954298037747415521427456],\n",
       " [5348958422963596558336,\n",
       "  2707561367159322968064,\n",
       "  28052373793846808576,\n",
       "  1265509287402219520,\n",
       "  782163935648777764864])"
      ]
     },
     "execution_count": 1,
     "metadata": {},
     "output_type": "execute_result"
    }
   ],
   "source": [
    "r0s = [int(r0si*(10**18)) for r0si in [\n",
    "  6509056.595038132070616612,\n",
    "  3308345.021333294051855729,\n",
    "  34203.974727465737010489,\n",
    "  1549.689087232146898652,\n",
    "  954298.037747415499391604\n",
    "]]\n",
    "\n",
    "r1s = [int(r1si*(10**18)) for r1si in [\n",
    "  5348.958422963596672278,\n",
    "  2707.561367159322649485,\n",
    "  28.052373793846808553,\n",
    "  1.265509287402219535,\n",
    "  782.16393564877776196\n",
    "]]\n",
    "\n",
    "r0s, r1s"
   ]
  },
  {
   "cell_type": "code",
   "execution_count": 2,
   "metadata": {},
   "outputs": [
    {
     "data": {
      "text/plain": [
       "[1216.8830041927642,\n",
       " 1221.8910571930237,\n",
       " 1219.2898532875054,\n",
       " 1224.5576564777955,\n",
       " 1220.0741996060692]"
      ]
     },
     "execution_count": 2,
     "metadata": {},
     "output_type": "execute_result"
    }
   ],
   "source": [
    "rates = [(r0s[i] / r1s[i]) for i in range(len(r0s))]\n",
    "rates"
   ]
  },
  {
   "cell_type": "code",
   "execution_count": 3,
   "metadata": {},
   "outputs": [
    {
     "data": {
      "text/html": [
       "<div>\n",
       "<style scoped>\n",
       "    .dataframe tbody tr th:only-of-type {\n",
       "        vertical-align: middle;\n",
       "    }\n",
       "\n",
       "    .dataframe tbody tr th {\n",
       "        vertical-align: top;\n",
       "    }\n",
       "\n",
       "    .dataframe thead th {\n",
       "        text-align: right;\n",
       "    }\n",
       "</style>\n",
       "<table border=\"1\" class=\"dataframe\">\n",
       "  <thead>\n",
       "    <tr style=\"text-align: right;\">\n",
       "      <th></th>\n",
       "      <th>Start</th>\n",
       "      <th>End</th>\n",
       "      <th>Rate i</th>\n",
       "      <th>Rate j</th>\n",
       "      <th>startr0</th>\n",
       "      <th>startr1</th>\n",
       "      <th>endr0</th>\n",
       "      <th>endr1</th>\n",
       "      <th>BorrowToken</th>\n",
       "      <th>full</th>\n",
       "      <th>l</th>\n",
       "      <th>m</th>\n",
       "      <th>r</th>\n",
       "      <th>pl</th>\n",
       "    </tr>\n",
       "  </thead>\n",
       "  <tbody>\n",
       "  </tbody>\n",
       "</table>\n",
       "</div>"
      ],
      "text/plain": [
       "Empty DataFrame\n",
       "Columns: [Start, End, Rate i, Rate j, startr0, startr1, endr0, endr1, BorrowToken, full, l, m, r, pl]\n",
       "Index: []"
      ]
     },
     "execution_count": 3,
     "metadata": {},
     "output_type": "execute_result"
    }
   ],
   "source": [
    "import pandas as pd\n",
    "from tqdm.notebook import tqdm\n",
    "df = pd.DataFrame(columns=[ \"Start\", \"End\", \"Rate i\", \"Rate j\",\n",
    "                            \"startr0\", \"startr1\", \"endr0\", \"endr1\",\n",
    "                            \"BorrowToken\", \"full\", \"l\", \"m\", \"r\", \"pl\"])\n",
    "df"
   ]
  },
  {
   "cell_type": "code",
   "execution_count": 4,
   "metadata": {},
   "outputs": [
    {
     "ename": "ImportError",
     "evalue": "IProgress not found. Please update jupyter and ipywidgets. See https://ipywidgets.readthedocs.io/en/stable/user_install.html",
     "output_type": "error",
     "traceback": [
      "\u001b[1;31m---------------------------------------------------------------------------\u001b[0m",
      "\u001b[1;31mImportError\u001b[0m                               Traceback (most recent call last)",
      "Cell \u001b[1;32mIn [4], line 1\u001b[0m\n\u001b[1;32m----> 1\u001b[0m \u001b[39mfor\u001b[39;00m i \u001b[39min\u001b[39;00m tqdm(\u001b[39mrange\u001b[39;49m(\u001b[39m4\u001b[39;49m)):\n\u001b[0;32m      3\u001b[0m     \u001b[39mfor\u001b[39;00m j \u001b[39min\u001b[39;00m tqdm(\u001b[39mrange\u001b[39m( ( i \u001b[39m+\u001b[39m \u001b[39m1\u001b[39m ) ,\u001b[39m5\u001b[39m)):\n\u001b[0;32m      5\u001b[0m         \u001b[39mif\u001b[39;00m rates[i] \u001b[39m>\u001b[39m rates[j]:\n",
      "File \u001b[1;32m~\\AppData\\Local\\Packages\\PythonSoftwareFoundation.Python.3.9_qbz5n2kfra8p0\\LocalCache\\local-packages\\Python39\\site-packages\\tqdm\\notebook.py:242\u001b[0m, in \u001b[0;36mtqdm_notebook.__init__\u001b[1;34m(self, *args, **kwargs)\u001b[0m\n\u001b[0;32m    240\u001b[0m unit_scale \u001b[39m=\u001b[39m \u001b[39m1\u001b[39m \u001b[39mif\u001b[39;00m \u001b[39mself\u001b[39m\u001b[39m.\u001b[39munit_scale \u001b[39mis\u001b[39;00m \u001b[39mTrue\u001b[39;00m \u001b[39melse\u001b[39;00m \u001b[39mself\u001b[39m\u001b[39m.\u001b[39munit_scale \u001b[39mor\u001b[39;00m \u001b[39m1\u001b[39m\n\u001b[0;32m    241\u001b[0m total \u001b[39m=\u001b[39m \u001b[39mself\u001b[39m\u001b[39m.\u001b[39mtotal \u001b[39m*\u001b[39m unit_scale \u001b[39mif\u001b[39;00m \u001b[39mself\u001b[39m\u001b[39m.\u001b[39mtotal \u001b[39melse\u001b[39;00m \u001b[39mself\u001b[39m\u001b[39m.\u001b[39mtotal\n\u001b[1;32m--> 242\u001b[0m \u001b[39mself\u001b[39m\u001b[39m.\u001b[39mcontainer \u001b[39m=\u001b[39m \u001b[39mself\u001b[39;49m\u001b[39m.\u001b[39;49mstatus_printer(\u001b[39mself\u001b[39;49m\u001b[39m.\u001b[39;49mfp, total, \u001b[39mself\u001b[39;49m\u001b[39m.\u001b[39;49mdesc, \u001b[39mself\u001b[39;49m\u001b[39m.\u001b[39;49mncols)\n\u001b[0;32m    243\u001b[0m \u001b[39mself\u001b[39m\u001b[39m.\u001b[39mcontainer\u001b[39m.\u001b[39mpbar \u001b[39m=\u001b[39m proxy(\u001b[39mself\u001b[39m)\n\u001b[0;32m    244\u001b[0m \u001b[39mself\u001b[39m\u001b[39m.\u001b[39mdisplayed \u001b[39m=\u001b[39m \u001b[39mFalse\u001b[39;00m\n",
      "File \u001b[1;32m~\\AppData\\Local\\Packages\\PythonSoftwareFoundation.Python.3.9_qbz5n2kfra8p0\\LocalCache\\local-packages\\Python39\\site-packages\\tqdm\\notebook.py:115\u001b[0m, in \u001b[0;36mtqdm_notebook.status_printer\u001b[1;34m(_, total, desc, ncols)\u001b[0m\n\u001b[0;32m    106\u001b[0m \u001b[39m# Fallback to text bar if there's no total\u001b[39;00m\n\u001b[0;32m    107\u001b[0m \u001b[39m# DEPRECATED: replaced with an 'info' style bar\u001b[39;00m\n\u001b[0;32m    108\u001b[0m \u001b[39m# if not total:\u001b[39;00m\n\u001b[1;32m   (...)\u001b[0m\n\u001b[0;32m    112\u001b[0m \n\u001b[0;32m    113\u001b[0m \u001b[39m# Prepare IPython progress bar\u001b[39;00m\n\u001b[0;32m    114\u001b[0m \u001b[39mif\u001b[39;00m IProgress \u001b[39mis\u001b[39;00m \u001b[39mNone\u001b[39;00m:  \u001b[39m# #187 #451 #558 #872\u001b[39;00m\n\u001b[1;32m--> 115\u001b[0m     \u001b[39mraise\u001b[39;00m \u001b[39mImportError\u001b[39;00m(\n\u001b[0;32m    116\u001b[0m         \u001b[39m\"\u001b[39m\u001b[39mIProgress not found. Please update jupyter and ipywidgets.\u001b[39m\u001b[39m\"\u001b[39m\n\u001b[0;32m    117\u001b[0m         \u001b[39m\"\u001b[39m\u001b[39m See https://ipywidgets.readthedocs.io/en/stable\u001b[39m\u001b[39m\"\u001b[39m\n\u001b[0;32m    118\u001b[0m         \u001b[39m\"\u001b[39m\u001b[39m/user_install.html\u001b[39m\u001b[39m\"\u001b[39m)\n\u001b[0;32m    119\u001b[0m \u001b[39mif\u001b[39;00m total:\n\u001b[0;32m    120\u001b[0m     pbar \u001b[39m=\u001b[39m IProgress(\u001b[39mmin\u001b[39m\u001b[39m=\u001b[39m\u001b[39m0\u001b[39m, \u001b[39mmax\u001b[39m\u001b[39m=\u001b[39mtotal)\n",
      "\u001b[1;31mImportError\u001b[0m: IProgress not found. Please update jupyter and ipywidgets. See https://ipywidgets.readthedocs.io/en/stable/user_install.html"
     ]
    }
   ],
   "source": [
    "for i in tqdm(range(4)):\n",
    "\n",
    "    for j in tqdm(range( ( i + 1 ) ,5)):\n",
    "\n",
    "        if rates[i] > rates[j]:\n",
    "\n",
    "            skip = 10\n",
    "\n",
    "            step = int( r0s[i] / skip )\n",
    "\n",
    "            l0  =  step\n",
    "\n",
    "            while True:\n",
    "\n",
    "                if (l0 > r0s[i]):\n",
    "\n",
    "                    l0  = r0s[i]\n",
    "\n",
    "                kj = r0s[j] * r1s[j] * (1000**2)\n",
    "\n",
    "                m1 = r1s[j] - ( kj / ( 1000 * ( ( r0s[j] * 1000 ) + ( l0 * 997 ) ) ) )\n",
    "                \n",
    "                ki = r0s[i] * r1s[i] * (1000**2)\n",
    "\n",
    "                ret1 = ( ( ( ki / 1000 * ( r0s[i] - l0 ) ) - ( r1s[i] * 1000 ) ) / 997 )\n",
    "\n",
    "                pl = m1 - ret1\n",
    "\n",
    "                if pl > 0:\n",
    "\n",
    "                    df = df.append({\n",
    "                        \"Start\": i,\n",
    "                        \"End\": j,\n",
    "                        \"Rate i\": rates[i],\n",
    "                        \"Rate j\": rates[j],\n",
    "                        \"startr0\": r0s[i],\n",
    "                        \"startr1\": r1s[i],\n",
    "                        \"endr0\": r0s[j],\n",
    "                        \"endr1\": r1s[j],\n",
    "                        \"BorrowToken\": \"DAI\",\n",
    "                        \"full\": r0s[i],\n",
    "                        \"l\": l0,\n",
    "                        \"m\": m1,\n",
    "                        \"ret\": ret1,\n",
    "                        \"pl\": (m1 - ret1),\n",
    "                        \"ProfitToken\": \"WETH\"\n",
    "                    }, ignore_index = True )\n",
    "\n",
    "                if (l0 == r0s[i]):\n",
    "\n",
    "                    break\n",
    "\n",
    "                else:\n",
    "\n",
    "                    l0 += step\n",
    "\n",
    "            step = int( r1s[j] / skip )\n",
    "\n",
    "            l1  =  step\n",
    "\n",
    "            while True:\n",
    "\n",
    "                if (l1 > r1s[j]):\n",
    "\n",
    "                    l1  = r1s[j]\n",
    "\n",
    "                ki = r0s[i] * r1s[i] * (1000**2)\n",
    "\n",
    "                m0 = r0s[i] - ( ki / ( 1000 * ( ( r1s[i] * 1000 ) + ( l1 * 997 ) ) ) )\n",
    "\n",
    "                kj = r0s[j] * r1s[j] * (1000**2)\n",
    "\n",
    "                ret0 = ( ( ( kj / ( 1000 * ( r1s[j] - l1 ) ) ) - ( r0s[j] * 1000 ) ) / 997 )\n",
    "\n",
    "                pl = m0 - ret0\n",
    "\n",
    "                if pl > 0:\n",
    "\n",
    "                    df = df.append({\n",
    "                        \"Start\": j,\n",
    "                        \"End\": i,\n",
    "                        \"Rate i\": rates[i],\n",
    "                        \"Rate j\": rates[j],\n",
    "                        \"startr0\": r0s[j],\n",
    "                        \"startr1\": r1s[j],\n",
    "                        \"endr0\": r0s[i],\n",
    "                        \"endr1\": r1s[i],\n",
    "                        \"BorrowToken\": \"WETH\",\n",
    "                        \"full\": r1s[j],\n",
    "                        \"l\": l1,\n",
    "                        \"m\": m0,\n",
    "                        \"ret\": ret0,\n",
    "                        \"pl\": (m0 - ret0),\n",
    "                        \"ProfitToken\": \"DAI\"\n",
    "                    }, ignore_index = True )\n",
    "\n",
    "                if (l1 == r1s[j]):\n",
    "\n",
    "                    break\n",
    "\n",
    "                else:\n",
    "\n",
    "                    l1 += step"
   ]
  },
  {
   "cell_type": "code",
   "execution_count": null,
   "metadata": {},
   "outputs": [],
   "source": []
  }
 ],
 "metadata": {
  "kernelspec": {
   "display_name": "Python 3.9.13 64-bit (microsoft store)",
   "language": "python",
   "name": "python3"
  },
  "language_info": {
   "codemirror_mode": {
    "name": "ipython",
    "version": 3
   },
   "file_extension": ".py",
   "mimetype": "text/x-python",
   "name": "python",
   "nbconvert_exporter": "python",
   "pygments_lexer": "ipython3",
   "version": "3.9.13"
  },
  "orig_nbformat": 4,
  "vscode": {
   "interpreter": {
    "hash": "56c7ecce51139da197b3c408f03eac3d1a94ce458b8847f2409aebcc42f02287"
   }
  }
 },
 "nbformat": 4,
 "nbformat_minor": 2
}

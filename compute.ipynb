{
 "cells": [
  {
   "cell_type": "code",
   "execution_count": 1,
   "metadata": {},
   "outputs": [
    {
     "data": {
      "text/plain": [
       "([6509056595038131770621952,\n",
       "  3308345021333293932478464,\n",
       "  34203974727465735028736,\n",
       "  1549689087232146931712,\n",
       "  954298037747415521427456],\n",
       " [5348958422963596558336,\n",
       "  2707561367159322968064,\n",
       "  28052373793846808576,\n",
       "  1265509287402219520,\n",
       "  782163935648777764864])"
      ]
     },
     "execution_count": 1,
     "metadata": {},
     "output_type": "execute_result"
    }
   ],
   "source": [
    "r0s = [int(r0si*(10**18)) for r0si in [\n",
    "  6509056.595038132070616612,\n",
    "  3308345.021333294051855729,\n",
    "  34203.974727465737010489,\n",
    "  1549.689087232146898652,\n",
    "  954298.037747415499391604\n",
    "]]\n",
    "\n",
    "r1s = [int(r1si*(10**18)) for r1si in [\n",
    "  5348.958422963596672278,\n",
    "  2707.561367159322649485,\n",
    "  28.052373793846808553,\n",
    "  1.265509287402219535,\n",
    "  782.16393564877776196\n",
    "]]\n",
    "\n",
    "r0s, r1s"
   ]
  },
  {
   "cell_type": "code",
   "execution_count": 2,
   "metadata": {},
   "outputs": [
    {
     "data": {
      "text/plain": [
       "[1216.8830041927642,\n",
       " 1221.8910571930237,\n",
       " 1219.2898532875054,\n",
       " 1224.5576564777955,\n",
       " 1220.0741996060692]"
      ]
     },
     "execution_count": 2,
     "metadata": {},
     "output_type": "execute_result"
    }
   ],
   "source": [
    "rates = [(r0s[i] / r1s[i]) for i in range(len(r0s))]\n",
    "rates"
   ]
  },
  {
   "cell_type": "code",
   "execution_count": 3,
   "metadata": {},
   "outputs": [
    {
     "data": {
      "text/html": [
       "<div>\n",
       "<style scoped>\n",
       "    .dataframe tbody tr th:only-of-type {\n",
       "        vertical-align: middle;\n",
       "    }\n",
       "\n",
       "    .dataframe tbody tr th {\n",
       "        vertical-align: top;\n",
       "    }\n",
       "\n",
       "    .dataframe thead th {\n",
       "        text-align: right;\n",
       "    }\n",
       "</style>\n",
       "<table border=\"1\" class=\"dataframe\">\n",
       "  <thead>\n",
       "    <tr style=\"text-align: right;\">\n",
       "      <th></th>\n",
       "      <th>Start</th>\n",
       "      <th>End</th>\n",
       "      <th>Rate i</th>\n",
       "      <th>Rate j</th>\n",
       "      <th>startr0</th>\n",
       "      <th>startr1</th>\n",
       "      <th>endr0</th>\n",
       "      <th>endr1</th>\n",
       "      <th>BorrowToken</th>\n",
       "      <th>full</th>\n",
       "      <th>l</th>\n",
       "      <th>m</th>\n",
       "      <th>r</th>\n",
       "      <th>pl</th>\n",
       "    </tr>\n",
       "  </thead>\n",
       "  <tbody>\n",
       "  </tbody>\n",
       "</table>\n",
       "</div>"
      ],
      "text/plain": [
       "Empty DataFrame\n",
       "Columns: [Start, End, Rate i, Rate j, startr0, startr1, endr0, endr1, BorrowToken, full, l, m, r, pl]\n",
       "Index: []"
      ]
     },
     "execution_count": 3,
     "metadata": {},
     "output_type": "execute_result"
    }
   ],
   "source": [
    "import pandas as pd\n",
    "from tqdm.notebook import tqdm\n",
    "df = pd.DataFrame(columns=[ \"Start\", \"End\", \"Rate i\", \"Rate j\",\n",
    "                            \"startr0\", \"startr1\", \"endr0\", \"endr1\",\n",
    "                            \"BorrowToken\", \"full\", \"l\", \"m\", \"r\", \"pl\"])\n",
    "df"
   ]
  },
  {
   "cell_type": "code",
   "execution_count": 4,
   "metadata": {},
   "outputs": [
    {
     "ename": "ImportError",
     "evalue": "IProgress not found. Please update jupyter and ipywidgets. See https://ipywidgets.readthedocs.io/en/stable/user_install.html",
     "output_type": "error",
     "traceback": [
      "\u001b[1;31m---------------------------------------------------------------------------\u001b[0m",
      "\u001b[1;31mImportError\u001b[0m                               Traceback (most recent call last)",
      "Cell \u001b[1;32mIn [4], line 1\u001b[0m\n\u001b[1;32m----> 1\u001b[0m \u001b[39mfor\u001b[39;00m i \u001b[39min\u001b[39;00m tqdm(\u001b[39mrange\u001b[39;49m(\u001b[39m4\u001b[39;49m)):\n\u001b[0;32m      3\u001b[0m     \u001b[39mfor\u001b[39;00m j \u001b[39min\u001b[39;00m tqdm(\u001b[39mrange\u001b[39m( ( i \u001b[39m+\u001b[39m \u001b[39m1\u001b[39m ) ,\u001b[39m5\u001b[39m)):\n\u001b[0;32m      5\u001b[0m         \u001b[39mif\u001b[39;00m rates[i] \u001b[39m>\u001b[39m rates[j]:\n",
      "File \u001b[1;32m~\\AppData\\Local\\Packages\\PythonSoftwareFoundation.Python.3.9_qbz5n2kfra8p0\\LocalCache\\local-packages\\Python39\\site-packages\\tqdm\\notebook.py:242\u001b[0m, in \u001b[0;36mtqdm_notebook.__init__\u001b[1;34m(self, *args, **kwargs)\u001b[0m\n\u001b[0;32m    240\u001b[0m unit_scale \u001b[39m=\u001b[39m \u001b[39m1\u001b[39m \u001b[39mif\u001b[39;00m \u001b[39mself\u001b[39m\u001b[39m.\u001b[39munit_scale \u001b[39mis\u001b[39;00m \u001b[39mTrue\u001b[39;00m \u001b[39melse\u001b[39;00m \u001b[39mself\u001b[39m\u001b[39m.\u001b[39munit_scale \u001b[39mor\u001b[39;00m \u001b[39m1\u001b[39m\n\u001b[0;32m    241\u001b[0m total \u001b[39m=\u001b[39m \u001b[39mself\u001b[39m\u001b[39m.\u001b[39mtotal \u001b[39m*\u001b[39m unit_scale \u001b[39mif\u001b[39;00m \u001b[39mself\u001b[39m\u001b[39m.\u001b[39mtotal \u001b[39melse\u001b[39;00m \u001b[39mself\u001b[39m\u001b[39m.\u001b[39mtotal\n\u001b[1;32m--> 242\u001b[0m \u001b[39mself\u001b[39m\u001b[39m.\u001b[39mcontainer \u001b[39m=\u001b[39m \u001b[39mself\u001b[39;49m\u001b[39m.\u001b[39;49mstatus_printer(\u001b[39mself\u001b[39;49m\u001b[39m.\u001b[39;49mfp, total, \u001b[39mself\u001b[39;49m\u001b[39m.\u001b[39;49mdesc, \u001b[39mself\u001b[39;49m\u001b[39m.\u001b[39;49mncols)\n\u001b[0;32m    243\u001b[0m \u001b[39mself\u001b[39m\u001b[39m.\u001b[39mcontainer\u001b[39m.\u001b[39mpbar \u001b[39m=\u001b[39m proxy(\u001b[39mself\u001b[39m)\n\u001b[0;32m    244\u001b[0m \u001b[39mself\u001b[39m\u001b[39m.\u001b[39mdisplayed \u001b[39m=\u001b[39m \u001b[39mFalse\u001b[39;00m\n",
      "File \u001b[1;32m~\\AppData\\Local\\Packages\\PythonSoftwareFoundation.Python.3.9_qbz5n2kfra8p0\\LocalCache\\local-packages\\Python39\\site-packages\\tqdm\\notebook.py:115\u001b[0m, in \u001b[0;36mtqdm_notebook.status_printer\u001b[1;34m(_, total, desc, ncols)\u001b[0m\n\u001b[0;32m    106\u001b[0m \u001b[39m# Fallback to text bar if there's no total\u001b[39;00m\n\u001b[0;32m    107\u001b[0m \u001b[39m# DEPRECATED: replaced with an 'info' style bar\u001b[39;00m\n\u001b[0;32m    108\u001b[0m \u001b[39m# if not total:\u001b[39;00m\n\u001b[1;32m   (...)\u001b[0m\n\u001b[0;32m    112\u001b[0m \n\u001b[0;32m    113\u001b[0m \u001b[39m# Prepare IPython progress bar\u001b[39;00m\n\u001b[0;32m    114\u001b[0m \u001b[39mif\u001b[39;00m IProgress \u001b[39mis\u001b[39;00m \u001b[39mNone\u001b[39;00m:  \u001b[39m# #187 #451 #558 #872\u001b[39;00m\n\u001b[1;32m--> 115\u001b[0m     \u001b[39mraise\u001b[39;00m \u001b[39mImportError\u001b[39;00m(\n\u001b[0;32m    116\u001b[0m         \u001b[39m\"\u001b[39m\u001b[39mIProgress not found. Please update jupyter and ipywidgets.\u001b[39m\u001b[39m\"\u001b[39m\n\u001b[0;32m    117\u001b[0m         \u001b[39m\"\u001b[39m\u001b[39m See https://ipywidgets.readthedocs.io/en/stable\u001b[39m\u001b[39m\"\u001b[39m\n\u001b[0;32m    118\u001b[0m         \u001b[39m\"\u001b[39m\u001b[39m/user_install.html\u001b[39m\u001b[39m\"\u001b[39m)\n\u001b[0;32m    119\u001b[0m \u001b[39mif\u001b[39;00m total:\n\u001b[0;32m    120\u001b[0m     pbar \u001b[39m=\u001b[39m IProgress(\u001b[39mmin\u001b[39m\u001b[39m=\u001b[39m\u001b[39m0\u001b[39m, \u001b[39mmax\u001b[39m\u001b[39m=\u001b[39mtotal)\n",
      "\u001b[1;31mImportError\u001b[0m: IProgress not found. Please update jupyter and ipywidgets. See https://ipywidgets.readthedocs.io/en/stable/user_install.html"
     ]
    }
   ],
   "source": [
    "for i in tqdm(range(4)):\n",
    "\n",
    "    for j in tqdm(range( ( i + 1 ) ,5)):\n",
    "\n",
    "        if rates[i] > rates[j]:\n",
    "\n",
    "            skip = 10\n",
    "\n",
    "            step = int( r0s[i] / skip )\n",
    "\n",
    "            l0  =  step\n",
    "\n",
    "            while True:\n",
    "\n",
    "                if (l0 > r0s[i]):\n",
    "\n",
    "                    l0  = r0s[i]\n",
    "\n",
    "                kj = r0s[j] * r1s[j] * (1000**2)\n",
    "\n",
    "                m1 = r1s[j] - ( kj / ( 1000 * ( ( r0s[j] * 1000 ) + ( l0 * 997 ) ) ) )\n",
    "                \n",
    "                ki = r0s[i] * r1s[i] * (1000**2)\n",
    "\n",
    "                ret1 = ( ( ( ki / 1000 * ( r0s[i] - l0 ) ) - ( r1s[i] * 1000 ) ) / 997 )\n",
    "\n",
    "                pl = m1 - ret1\n",
    "\n",
    "                if pl > 0:\n",
    "\n",
    "                    df = df.append({\n",
    "                        \"Start\": i,\n",
    "                        \"End\": j,\n",
    "                        \"Rate i\": rates[i],\n",
    "                        \"Rate j\": rates[j],\n",
    "                        \"startr0\": r0s[i],\n",
    "                        \"startr1\": r1s[i],\n",
    "                        \"endr0\": r0s[j],\n",
    "                        \"endr1\": r1s[j],\n",
    "                        \"BorrowToken\": \"DAI\",\n",
    "                        \"full\": r0s[i],\n",
    "                        \"l\": l0,\n",
    "                        \"m\": m1,\n",
    "                        \"ret\": ret1,\n",
    "                        \"pl\": (m1 - ret1),\n",
    "                        \"ProfitToken\": \"WETH\"\n",
    "                    }, ignore_index = True )\n",
    "\n",
    "                if (l0 == r0s[i]):\n",
    "\n",
    "                    break\n",
    "\n",
    "                else:\n",
    "\n",
    "                    l0 += step\n",
    "\n",
    "            step = int( r1s[j] / skip )\n",
    "\n",
    "            l1  =  step\n",
    "\n",
    "            while True:\n",
    "\n",
    "                if (l1 > r1s[j]):\n",
    "\n",
    "                    l1  = r1s[j]\n",
    "\n",
    "                ki = r0s[i] * r1s[i] * (1000**2)\n",
    "\n",
    "                m0 = r0s[i] - ( ki / ( 1000 * ( ( r1s[i] * 1000 ) + ( l1 * 997 ) ) ) )\n",
    "\n",
    "                kj = r0s[j] * r1s[j] * (1000**2)\n",
    "\n",
    "                ret0 = ( ( ( kj / ( 1000 * ( r1s[j] - l1 ) ) ) - ( r0s[j] * 1000 ) ) / 997 )\n",
    "\n",
    "                pl = m0 - ret0\n",
    "\n",
    "                if pl > 0:\n",
    "\n",
    "                    df = df.append({\n",
    "                        \"Start\": j,\n",
    "                        \"End\": i,\n",
    "                        \"Rate i\": rates[i],\n",
    "                        \"Rate j\": rates[j],\n",
    "                        \"startr0\": r0s[j],\n",
    "                        \"startr1\": r1s[j],\n",
    "                        \"endr0\": r0s[i],\n",
    "                        \"endr1\": r1s[i],\n",
    "                        \"BorrowToken\": \"WETH\",\n",
    "                        \"full\": r1s[j],\n",
    "                        \"l\": l1,\n",
    "                        \"m\": m0,\n",
    "                        \"ret\": ret0,\n",
    "                        \"pl\": (m0 - ret0),\n",
    "                        \"ProfitToken\": \"DAI\"\n",
    "                    }, ignore_index = True )\n",
    "\n",
    "                if (l1 == r1s[j]):\n",
    "\n",
    "                    break\n",
    "\n",
    "                else:\n",
    "\n",
    "                    l1 += step"
   ]
  },
  {
   "cell_type": "code",
   "execution_count": 29,
   "metadata": {},
   "outputs": [],
   "source": [
    "start_reserve_0 = 6603570092174239050383792\n",
    "start_reserve_1 = 5152241867963885723178\n",
    "end_reserve_0 = 1573503599986422669211\n",
    "end_reserve_1 = 1246920015007834365"
   ]
  },
  {
   "cell_type": "code",
   "execution_count": 30,
   "metadata": {},
   "outputs": [
    {
     "data": {
      "text/plain": [
       "0.02823684993146"
      ]
     },
     "execution_count": 30,
     "metadata": {},
     "output_type": "execute_result"
    }
   ],
   "source": [
    "fraction_0 = 0.0000011426207020781212\n",
    "l_0 = 7545375894942212000\n",
    "m_1 = 5933016134917888\n",
    "ret_1 = 5904779284986428\n",
    "( m_1 - ret_1 ) / ( 10**15 )"
   ]
  },
  {
   "cell_type": "code",
   "execution_count": 24,
   "metadata": {},
   "outputs": [
    {
     "data": {
      "text/plain": [
       "(7.547340378039528e+18, 7545375894942212000)"
      ]
     },
     "execution_count": 24,
     "metadata": {},
     "output_type": "execute_result"
    }
   ],
   "source": [
    "( fraction_0 * start_reserve_0 ), l_0"
   ]
  },
  {
   "cell_type": "code",
   "execution_count": 31,
   "metadata": {},
   "outputs": [
    {
     "data": {
      "text/plain": [
       "(34023190306934250428105674086080693330369930976000,\n",
       " 1962033132509951556020027788399873236015000)"
      ]
     },
     "execution_count": 31,
     "metadata": {},
     "output_type": "execute_result"
    }
   ],
   "source": [
    "initial_ks = start_reserve_0 * start_reserve_1 * 1000, end_reserve_0 * end_reserve_1 * 1000\n",
    "initial_ks"
   ]
  },
  {
   "cell_type": "code",
   "execution_count": 32,
   "metadata": {},
   "outputs": [
    {
     "data": {
      "text/plain": [
       "(34023190306934250428107926865454875393914796635072,\n",
       " 2487741257020989072766546743817572668452725000)"
      ]
     },
     "execution_count": 32,
     "metadata": {},
     "output_type": "execute_result"
    }
   ],
   "source": [
    "final_ks = ( start_reserve_0 - l_0 ) * ( start_reserve_1 * 1000 + ret_1 * 997 ), ( end_reserve_0 * 1000 + l_0 * 997 ) * ( end_reserve_0 - m_1 )\n",
    "final_ks"
   ]
  },
  {
   "cell_type": "code",
   "execution_count": 33,
   "metadata": {},
   "outputs": [
    {
     "data": {
      "text/plain": [
       "(True, True)"
      ]
     },
     "execution_count": 33,
     "metadata": {},
     "output_type": "execute_result"
    }
   ],
   "source": [
    "final_ks[0] >= initial_ks[0], final_ks[1] >= initial_ks[1]"
   ]
  },
  {
   "cell_type": "code",
   "execution_count": 16,
   "metadata": {},
   "outputs": [
    {
     "data": {
      "text/plain": [
       "-3499961745147156376793050559"
      ]
     },
     "execution_count": 16,
     "metadata": {},
     "output_type": "execute_result"
    }
   ],
   "source": [
    "final_ks[0] - initial_ks[0]"
   ]
  },
  {
   "cell_type": "code",
   "execution_count": 25,
   "metadata": {},
   "outputs": [
    {
     "data": {
      "text/plain": [
       "0.0854819265647616"
      ]
     },
     "execution_count": 25,
     "metadata": {},
     "output_type": "execute_result"
    }
   ],
   "source": [
    "85481926564761600 / (10**18)"
   ]
  },
  {
   "cell_type": "code",
   "execution_count": 41,
   "metadata": {},
   "outputs": [],
   "source": [
    "start_reserve_0 = 1573503599986422669211\n",
    "start_reserve_1 = 1246920015007834365\n",
    "end_reserve_0 = 3381733268537618195128176\n",
    "end_reserve_1 = 2621748363220687335971"
   ]
  },
  {
   "cell_type": "code",
   "execution_count": 42,
   "metadata": {},
   "outputs": [
    {
     "data": {
      "text/plain": [
       "0.10062141611718861"
      ]
     },
     "execution_count": 42,
     "metadata": {},
     "output_type": "execute_result"
    }
   ],
   "source": [
    "fraction_1 = 0.007919592780410559\n",
    "l_1 = 9875098748605470\n",
    "m_0 = 12699403403684478976\n",
    "ret_0 = 12598781987567290368\n",
    "( m_0 - ret_0 ) / ( 10**18 )"
   ]
  },
  {
   "cell_type": "code",
   "execution_count": 43,
   "metadata": {},
   "outputs": [
    {
     "data": {
      "text/plain": [
       "(1962033132509951556020027788399873236015000,\n",
       " 8866053661637445612994379313656262412320418896000)"
      ]
     },
     "execution_count": 43,
     "metadata": {},
     "output_type": "execute_result"
    }
   ],
   "source": [
    "initial_ks = start_reserve_0 * start_reserve_1 * 1000, end_reserve_0 * end_reserve_1 * 1000\n",
    "initial_ks"
   ]
  },
  {
   "cell_type": "code",
   "execution_count": 44,
   "metadata": {},
   "outputs": [
    {
     "data": {
      "text/plain": [
       "(1962033132509951556187960946902234112854920,\n",
       " 8866053661637444833473482433395748981200383828000)"
      ]
     },
     "execution_count": 44,
     "metadata": {},
     "output_type": "execute_result"
    }
   ],
   "source": [
    "final_ks = ( start_reserve_1 - l_1 ) * ( start_reserve_0 * 1000 + ret_0 * 997 ), ( end_reserve_1 * 1000 + l_1 * 997 ) * ( end_reserve_0 - m_0 )\n",
    "final_ks"
   ]
  },
  {
   "cell_type": "code",
   "execution_count": 45,
   "metadata": {},
   "outputs": [
    {
     "data": {
      "text/plain": [
       "(True, False)"
      ]
     },
     "execution_count": 45,
     "metadata": {},
     "output_type": "execute_result"
    }
   ],
   "source": [
    "final_ks[0] >= initial_ks[0], final_ks[1] >= initial_ks[1]"
   ]
  },
  {
   "cell_type": "code",
   "execution_count": 60,
   "metadata": {},
   "outputs": [
    {
     "data": {
      "text/plain": [
       "(False, True)"
      ]
     },
     "execution_count": 60,
     "metadata": {},
     "output_type": "execute_result"
    }
   ],
   "source": [
    "start_reserve_0 = 1573503599986422669211\n",
    "start_reserve_1 = 1246920015007834365\n",
    "end_reserve_0 = 6618361765446170676914026\n",
    "end_reserve_1 = 5140856343164203936700\n",
    "\n",
    "fraction_1 = 0.006969405799320131\n",
    "l_1 = 8690291583883945\n",
    "m_0 = 11154338226246778880\n",
    "ret_0 = 11076580448807403520\n",
    "\n",
    "initial_ks = start_reserve_0 * start_reserve_1 * 1000, end_reserve_0 * end_reserve_1 * 1000\n",
    "final_ks = ( start_reserve_1 - l_1 ) * ( start_reserve_0 * 1000 + ret_0 * 997 ), ( end_reserve_1 * 1000 + l_1 * 997 ) * ( end_reserve_0 - m_0 )\n",
    "\n",
    "final_ks[0] >= initial_ks[0], final_ks[1] >= initial_ks[1]"
   ]
  },
  {
   "cell_type": "code",
   "execution_count": 61,
   "metadata": {},
   "outputs": [
    {
     "data": {
      "text/plain": [
       "-385483296292479479430200"
      ]
     },
     "execution_count": 61,
     "metadata": {},
     "output_type": "execute_result"
    }
   ],
   "source": [
    "final_ks[0] - initial_ks[0]"
   ]
  },
  {
   "cell_type": "code",
   "execution_count": 62,
   "metadata": {},
   "outputs": [
    {
     "ename": "NameError",
     "evalue": "name 'sr1' is not defined",
     "output_type": "error",
     "traceback": [
      "\u001b[1;31m---------------------------------------------------------------------------\u001b[0m",
      "\u001b[1;31mNameError\u001b[0m                                 Traceback (most recent call last)",
      "Cell \u001b[1;32mIn [62], line 1\u001b[0m\n\u001b[1;32m----> 1\u001b[0m ( ( sr1 \u001b[39m-\u001b[39m l_1 ) \u001b[39m*\u001b[39m ( sr0 \u001b[39m*\u001b[39m \u001b[39m1000\u001b[39m \u001b[39m+\u001b[39m ret_0 \u001b[39m*\u001b[39m \u001b[39m997\u001b[39m ) ) \u001b[39m-\u001b[39m ( sr0 \u001b[39m*\u001b[39m sr1 \u001b[39m*\u001b[39m \u001b[39m1000\u001b[39m )\n",
      "\u001b[1;31mNameError\u001b[0m: name 'sr1' is not defined"
     ]
    }
   ],
   "source": [
    "( ( sr1 - l_1 ) * ( sr0 * 1000 + ret_0 * 997 ) ) - ( sr0 * sr1 * 1000 )"
   ]
  },
  {
   "cell_type": "code",
   "execution_count": null,
   "metadata": {},
   "outputs": [],
   "source": [
    "( ( ( sr0 * sr1 * 1000 ) / ( sr1 - l_1 ) ) - ( sr0 * 1000 ) ) / 997"
   ]
  },
  {
   "cell_type": "code",
   "execution_count": 53,
   "metadata": {},
   "outputs": [
    {
     "data": {
      "text/plain": [
       "0.0"
      ]
     },
     "execution_count": 53,
     "metadata": {},
     "output_type": "execute_result"
    }
   ],
   "source": [
    "12699403403684478976 - ( end_reserve_0 - ( initial_ks[1] / ( end_reserve_1 * 1000 + l_1 * 997 ) ) )"
   ]
  },
  {
   "cell_type": "code",
   "execution_count": 54,
   "metadata": {},
   "outputs": [
    {
     "data": {
      "text/plain": [
       "1.269940340368448e+19"
      ]
     },
     "execution_count": 54,
     "metadata": {},
     "output_type": "execute_result"
    }
   ],
   "source": [
    "( end_reserve_0 - ( initial_ks[1] / ( end_reserve_1 * 1000 + l_1 * 997 ) ) )"
   ]
  },
  {
   "cell_type": "code",
   "execution_count": 59,
   "metadata": {},
   "outputs": [
    {
     "data": {
      "text/plain": [
       "-779520896880260513431120035068000"
      ]
     },
     "execution_count": 59,
     "metadata": {},
     "output_type": "execute_result"
    }
   ],
   "source": [
    "( end_reserve_1 * 1000 + l_1 * 997 ) * ( end_reserve_0 - (m_0) ) - (end_reserve_0 * end_reserve_1 * 1000)"
   ]
  },
  {
   "cell_type": "code",
   "execution_count": null,
   "metadata": {},
   "outputs": [],
   "source": []
  }
 ],
 "metadata": {
  "kernelspec": {
   "display_name": "Python 3.9.13 64-bit (microsoft store)",
   "language": "python",
   "name": "python3"
  },
  "language_info": {
   "codemirror_mode": {
    "name": "ipython",
    "version": 3
   },
   "file_extension": ".py",
   "mimetype": "text/x-python",
   "name": "python",
   "nbconvert_exporter": "python",
   "pygments_lexer": "ipython3",
   "version": "3.9.13"
  },
  "orig_nbformat": 4,
  "vscode": {
   "interpreter": {
    "hash": "56c7ecce51139da197b3c408f03eac3d1a94ce458b8847f2409aebcc42f02287"
   }
  }
 },
 "nbformat": 4,
 "nbformat_minor": 2
}
